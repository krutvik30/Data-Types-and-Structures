{
  "nbformat": 4,
  "nbformat_minor": 0,
  "metadata": {
    "colab": {
      "provenance": []
    },
    "kernelspec": {
      "name": "python3",
      "display_name": "Python 3"
    },
    "language_info": {
      "name": "python"
    }
  },
  "cells": [
    {
      "cell_type": "markdown",
      "source": [
        "**Data Types and Structures Questions**"
      ],
      "metadata": {
        "id": "jpchE2NqTwaq"
      }
    },
    {
      "cell_type": "markdown",
      "source": [
        "1. DP What are data structures, and why are they important\n"
      ],
      "metadata": {
        "id": "kDMPEczQSWw9"
      }
    },
    {
      "cell_type": "markdown",
      "source": [
        "=> Data structures are ways of organizing and storing data for efficient access and modification.\n",
        "\n",
        "They are important because they help optimize the performance of algorithms and improve code efficiency."
      ],
      "metadata": {
        "id": "aAsmcDlzTcH6"
      }
    },
    {
      "cell_type": "markdown",
      "source": [
        "2. Explain the difference between mutable and immutable data types with examples"
      ],
      "metadata": {
        "id": "eK8jPhHZSZUZ"
      }
    },
    {
      "cell_type": "markdown",
      "source": [
        "=> Mutable types (lists, dictionaries) can be changed after creation. Immutable types (tuples, strings) cannot."
      ],
      "metadata": {
        "id": "wXRv1HbiTfqS"
      }
    },
    {
      "cell_type": "markdown",
      "source": [
        "3. What are the main differences between lists and tuples in Python\n"
      ],
      "metadata": {
        "id": "K1wIhVSmSdLq"
      }
    },
    {
      "cell_type": "markdown",
      "source": [
        "=> Lists are mutable, while tuples are immutable. Lists have dynamic sizes, while tuples have fixed sizes."
      ],
      "metadata": {
        "id": "u9YMMN0xTkKM"
      }
    },
    {
      "cell_type": "markdown",
      "source": [
        "4. Describe how dictionaries store data\n"
      ],
      "metadata": {
        "id": "oS_ZZ9jESgmY"
      }
    },
    {
      "cell_type": "markdown",
      "source": [
        "=> Dictionaries store data in key-value pairs using a hash table for quick access."
      ],
      "metadata": {
        "id": "dMsu6tNxTnSZ"
      }
    },
    {
      "cell_type": "markdown",
      "source": [
        "5. Why might you use a set instead of a list in Python\n"
      ],
      "metadata": {
        "id": "yDmaibjEShsm"
      }
    },
    {
      "cell_type": "markdown",
      "source": [
        "=> Sets are useful when unique values are needed, as they automatically remove duplicates."
      ],
      "metadata": {
        "id": "Oj9jcG_yTpQo"
      }
    },
    {
      "cell_type": "markdown",
      "source": [
        "6. What is a string in Python, and how is it different from a list\n"
      ],
      "metadata": {
        "id": "eUHKByYRSm0S"
      }
    },
    {
      "cell_type": "markdown",
      "source": [
        "=> A string is a sequence of characters, immutable, while a list is a collection of mutable elements."
      ],
      "metadata": {
        "id": "kfeh8l0yTrRJ"
      }
    },
    {
      "cell_type": "markdown",
      "source": [
        "7. How do tuples ensure data integrity in Python"
      ],
      "metadata": {
        "id": "wy41s2m0SpFj"
      }
    },
    {
      "cell_type": "markdown",
      "source": [
        "=> Tuples ensure data integrity by being immutable, meaning their contents cannot be changed after creation. This makes them reliable for storing fixed data."
      ],
      "metadata": {
        "id": "Hf9lJKILXMnr"
      }
    },
    {
      "cell_type": "markdown",
      "source": [
        "8.  What is a hash table, and how does it relate to dictionaries in Python?"
      ],
      "metadata": {
        "id": "U5f_1MnhSrXT"
      }
    },
    {
      "cell_type": "markdown",
      "source": [
        "=> A hash table is a data structure that maps keys to values using a hashing function. In Python, dictionaries use hash tables to allow fast lookups."
      ],
      "metadata": {
        "id": "5VXYqXMuXOMZ"
      }
    },
    {
      "cell_type": "markdown",
      "source": [
        "9. Can lists contain different data types in Python\n",
        "\n",
        "---\n",
        "\n"
      ],
      "metadata": {
        "id": "l-SsGWiMSuJl"
      }
    },
    {
      "cell_type": "markdown",
      "source": [
        "=> Yes, lists can contain different data types in Python, such as integers, strings, and objects within the same list."
      ],
      "metadata": {
        "id": "x96im3cGXRwJ"
      }
    },
    {
      "cell_type": "markdown",
      "source": [
        "10.  Explain why strings are immutable in Python\n",
        "\n",
        "---\n",
        "\n"
      ],
      "metadata": {
        "id": "dU3z2EOcSvmj"
      }
    },
    {
      "cell_type": "markdown",
      "source": [
        "=> Strings are immutable in Python to ensure security, improve performance through interning, and allow safe sharing of string objects across the program."
      ],
      "metadata": {
        "id": "7mjw0zSmXUQW"
      }
    },
    {
      "cell_type": "markdown",
      "source": [
        "11. What advantages do dictionaries offer over lists for certain tasks3"
      ],
      "metadata": {
        "id": "AjnFZh_CSzKX"
      }
    },
    {
      "cell_type": "markdown",
      "source": [
        "=> Dictionaries are preferred over lists when fast lookups, insertions, and deletions by key are required. They allow O(1) average-time complexity for these operations."
      ],
      "metadata": {
        "id": "-0m780Q7XWBS"
      }
    },
    {
      "cell_type": "markdown",
      "source": [
        "12. Describe a scenario where using a tuple would be preferable over a list"
      ],
      "metadata": {
        "id": "bopopEp-S01R"
      }
    },
    {
      "cell_type": "markdown",
      "source": [
        "=> Tuples are preferable over lists when the data should not change, such as defining constant values or returning multiple values from a function."
      ],
      "metadata": {
        "id": "vWRSIimkXbAc"
      }
    },
    {
      "cell_type": "markdown",
      "source": [
        "13. How do sets handle duplicate values in Python?"
      ],
      "metadata": {
        "id": "r6H0nAUSS3p8"
      }
    },
    {
      "cell_type": "markdown",
      "source": [
        "=> Sets do not allow duplicate values. When an item is added to a set, any duplicates are automatically removed."
      ],
      "metadata": {
        "id": "14zBaSUxXcx8"
      }
    },
    {
      "cell_type": "markdown",
      "source": [
        "14. How does the “in” keyword work differently for lists and dictionaries?"
      ],
      "metadata": {
        "id": "PKBeTDnuS6sN"
      }
    },
    {
      "cell_type": "markdown",
      "source": [
        "=> The \"in\" keyword in lists searches for an element linearly (O(n)), while in dictionaries, it checks for keys using hashing (O(1) on average)."
      ],
      "metadata": {
        "id": "Zp54rVKHXec9"
      }
    },
    {
      "cell_type": "markdown",
      "source": [
        "15. Can you modify the elements of a tuple? Explain why or why not."
      ],
      "metadata": {
        "id": "hciT6BEDS9MN"
      }
    },
    {
      "cell_type": "markdown",
      "source": [
        "=> Tuples cannot be modified after creation because they are immutable. However, if they contain mutable objects like lists, those inner objects can be changed."
      ],
      "metadata": {
        "id": "RixKkB4VXhwu"
      }
    },
    {
      "cell_type": "markdown",
      "source": [
        "16. What is a nested dictionary, and give an example of its use case?"
      ],
      "metadata": {
        "id": "9yc0abplTKR5"
      }
    },
    {
      "cell_type": "markdown",
      "source": [
        "=> A nested dictionary is a dictionary containing another dictionary as a value."
      ],
      "metadata": {
        "id": "9JH9aq62XjkB"
      }
    },
    {
      "cell_type": "code",
      "source": [
        "student = {\"name\": \"Alice\", \"grades\": {\"math\": 90, \"science\": 85}}\n",
        "print(student)"
      ],
      "metadata": {
        "colab": {
          "base_uri": "https://localhost:8080/"
        },
        "id": "aRNIKItTXmCy",
        "outputId": "03f9a578-071a-4fed-f44e-ab55222c664b"
      },
      "execution_count": 37,
      "outputs": [
        {
          "output_type": "stream",
          "name": "stdout",
          "text": [
            "{'name': 'Alice', 'grades': {'math': 90, 'science': 85}}\n"
          ]
        }
      ]
    },
    {
      "cell_type": "markdown",
      "source": [
        "17. Describe the time complexity of accessing elements in a dictionary"
      ],
      "metadata": {
        "id": "KLZN2ZobTMTs"
      }
    },
    {
      "cell_type": "markdown",
      "source": [
        "=> Accessing elements in a dictionary has O(1) time complexity on average due to hashing, making it faster than searching in a list."
      ],
      "metadata": {
        "id": "_qHSSQcUXxJ0"
      }
    },
    {
      "cell_type": "markdown",
      "source": [
        "18. In what situations are lists preferred over dictionaries"
      ],
      "metadata": {
        "id": "YO78VM-0TOSW"
      }
    },
    {
      "cell_type": "markdown",
      "source": [
        "=> Lists are preferred over dictionaries when the order of elements is important or when storing sequential data that does not require key-value pairs."
      ],
      "metadata": {
        "id": "71M-Es5LXyJ1"
      }
    },
    {
      "cell_type": "markdown",
      "source": [
        "19. Why are dictionaries considered unordered, and how does that affect data retrieval?"
      ],
      "metadata": {
        "id": "WqurIvSvTSWr"
      }
    },
    {
      "cell_type": "markdown",
      "source": [
        "=> Dictionaries are unordered before Python 3.7 (after which they maintain insertion order). This means elements cannot be retrieved by index, only by key."
      ],
      "metadata": {
        "id": "tZj1oiIPXzt7"
      }
    },
    {
      "cell_type": "markdown",
      "source": [
        "20. Explain the difference between a list and a dictionary in terms of data retrieval."
      ],
      "metadata": {
        "id": "_ryoUPGfTVjy"
      }
    },
    {
      "cell_type": "markdown",
      "source": [
        "=> Lists store elements in order and allow retrieval by index, whereas dictionaries store key-value pairs and allow retrieval by key."
      ],
      "metadata": {
        "id": "xo1flg9BX18z"
      }
    },
    {
      "cell_type": "markdown",
      "source": [
        "**Practical Questions**\n"
      ],
      "metadata": {
        "id": "fF2jt9BBUKUc"
      }
    },
    {
      "cell_type": "markdown",
      "source": [
        "1. Write a code to create a string with your name and print it"
      ],
      "metadata": {
        "id": "ehV72WTOUN7k"
      }
    },
    {
      "cell_type": "code",
      "source": [
        "name = \"Krutvik\"\n",
        "print(name)"
      ],
      "metadata": {
        "colab": {
          "base_uri": "https://localhost:8080/"
        },
        "id": "tn7EtCG8VKm7",
        "outputId": "2c491044-efb6-48b9-b7ad-52eff2de8226"
      },
      "execution_count": 2,
      "outputs": [
        {
          "output_type": "stream",
          "name": "stdout",
          "text": [
            "Krutvik\n"
          ]
        }
      ]
    },
    {
      "cell_type": "markdown",
      "source": [
        "2. Write a code to find the length of the string \"Hello World\""
      ],
      "metadata": {
        "id": "WbiAgL9HURpo"
      }
    },
    {
      "cell_type": "code",
      "source": [
        "string = \"Hello World\"\n",
        "print(len(string))"
      ],
      "metadata": {
        "colab": {
          "base_uri": "https://localhost:8080/"
        },
        "id": "78ezxIYMVTKI",
        "outputId": "5652ee10-3087-4590-ee8c-99f98ceb6ec4"
      },
      "execution_count": 3,
      "outputs": [
        {
          "output_type": "stream",
          "name": "stdout",
          "text": [
            "11\n"
          ]
        }
      ]
    },
    {
      "cell_type": "markdown",
      "source": [
        "3. Write a code to slice the first 3 characters from the string \"Python Programming\""
      ],
      "metadata": {
        "id": "1uSHLXseUTb1"
      }
    },
    {
      "cell_type": "code",
      "source": [
        "text = \"Python Programming\"\n",
        "print(text[:3])"
      ],
      "metadata": {
        "colab": {
          "base_uri": "https://localhost:8080/"
        },
        "id": "QepGTa8xVbf9",
        "outputId": "ce1143bd-ee7b-4d53-c08f-6734ae094c29"
      },
      "execution_count": 6,
      "outputs": [
        {
          "output_type": "stream",
          "name": "stdout",
          "text": [
            "Pyt\n"
          ]
        }
      ]
    },
    {
      "cell_type": "markdown",
      "source": [
        "4. Write a code to convert the string \"hello\" to uppercase"
      ],
      "metadata": {
        "id": "wBgo1fNkUVcX"
      }
    },
    {
      "cell_type": "code",
      "source": [
        "print(\"hello\".upper())"
      ],
      "metadata": {
        "colab": {
          "base_uri": "https://localhost:8080/"
        },
        "id": "oFZk8mx9Vnh-",
        "outputId": "f7df335e-93bb-4dbe-aab6-5f638d34bd7d"
      },
      "execution_count": 7,
      "outputs": [
        {
          "output_type": "stream",
          "name": "stdout",
          "text": [
            "HELLO\n"
          ]
        }
      ]
    },
    {
      "cell_type": "markdown",
      "source": [
        "5. Write a code to replace the word \"apple\" with \"orange\" in the string \"I like apple\""
      ],
      "metadata": {
        "id": "cNyBtrZFUXSw"
      }
    },
    {
      "cell_type": "code",
      "source": [
        "sentence = \"I like apple\"\n",
        "print(sentence.replace(\"apple\", \"orange\"))"
      ],
      "metadata": {
        "colab": {
          "base_uri": "https://localhost:8080/"
        },
        "id": "LFIjt3lfVqCy",
        "outputId": "00faba0d-c336-4721-82cb-0c536c6e3935"
      },
      "execution_count": 8,
      "outputs": [
        {
          "output_type": "stream",
          "name": "stdout",
          "text": [
            "I like orange\n"
          ]
        }
      ]
    },
    {
      "cell_type": "markdown",
      "source": [
        "6. Write a code to create a list with numbers 1 to 5 and print it."
      ],
      "metadata": {
        "id": "O6HhpURBUZey"
      }
    },
    {
      "cell_type": "code",
      "source": [
        "numbers = [1, 2, 3, 4, 5]\n",
        "print(numbers)"
      ],
      "metadata": {
        "colab": {
          "base_uri": "https://localhost:8080/"
        },
        "id": "wmDzblRDVvOs",
        "outputId": "0a8d9850-8cd7-4d64-d0bb-9ae675b51004"
      },
      "execution_count": 9,
      "outputs": [
        {
          "output_type": "stream",
          "name": "stdout",
          "text": [
            "[1, 2, 3, 4, 5]\n"
          ]
        }
      ]
    },
    {
      "cell_type": "markdown",
      "source": [
        "7. Write a code to append the number 10 to the list [1, 2, 3, 4]"
      ],
      "metadata": {
        "id": "_iPmhXauUbTz"
      }
    },
    {
      "cell_type": "code",
      "source": [
        "num_list = [1, 2, 3, 4]\n",
        "num_list.append(10)\n",
        "print(num_list)"
      ],
      "metadata": {
        "colab": {
          "base_uri": "https://localhost:8080/"
        },
        "id": "8BV7aewhVxm1",
        "outputId": "602f4c94-6c76-4023-f953-ddfe8659c0d7"
      },
      "execution_count": 10,
      "outputs": [
        {
          "output_type": "stream",
          "name": "stdout",
          "text": [
            "[1, 2, 3, 4, 10]\n"
          ]
        }
      ]
    },
    {
      "cell_type": "markdown",
      "source": [
        "8. Write a code to remove the number 3 from the list [1, 2, 3, 4, 5]"
      ],
      "metadata": {
        "id": "cV9Qt8cmUdSo"
      }
    },
    {
      "cell_type": "code",
      "source": [
        "num_list = [1, 2, 3, 4, 5]\n",
        "num_list.remove(3)\n",
        "print(num_list)"
      ],
      "metadata": {
        "colab": {
          "base_uri": "https://localhost:8080/"
        },
        "id": "lHY7hAtZV04j",
        "outputId": "037f0fae-cffe-48c8-c4b3-7266b7c19563"
      },
      "execution_count": 11,
      "outputs": [
        {
          "output_type": "stream",
          "name": "stdout",
          "text": [
            "[1, 2, 4, 5]\n"
          ]
        }
      ]
    },
    {
      "cell_type": "markdown",
      "source": [
        "9. Write a code to access the second element in the list ['a', 'b', 'c', 'd']"
      ],
      "metadata": {
        "id": "VJzT60utUfUn"
      }
    },
    {
      "cell_type": "code",
      "source": [
        "char_list = ['a', 'b', 'c', 'd']\n",
        "print(char_list[1])"
      ],
      "metadata": {
        "colab": {
          "base_uri": "https://localhost:8080/"
        },
        "id": "11NWX7UTV4Rf",
        "outputId": "c2e425e5-f324-4ac3-8b6a-2f3f9b477571"
      },
      "execution_count": 12,
      "outputs": [
        {
          "output_type": "stream",
          "name": "stdout",
          "text": [
            "b\n"
          ]
        }
      ]
    },
    {
      "cell_type": "markdown",
      "source": [
        "10. Write a code to reverse the list [10, 20, 30, 40, 50]."
      ],
      "metadata": {
        "id": "j9drlAQjUhI0"
      }
    },
    {
      "cell_type": "code",
      "source": [
        "num_list = [10, 20, 30, 40, 50]\n",
        "num_list.reverse()\n",
        "print(num_list)"
      ],
      "metadata": {
        "colab": {
          "base_uri": "https://localhost:8080/"
        },
        "id": "PYIz-sApV61s",
        "outputId": "9b5d1579-d731-4b1f-91d6-046705448580"
      },
      "execution_count": 13,
      "outputs": [
        {
          "output_type": "stream",
          "name": "stdout",
          "text": [
            "[50, 40, 30, 20, 10]\n"
          ]
        }
      ]
    },
    {
      "cell_type": "markdown",
      "source": [
        "11. Write a code to create a tuple with the elements 100, 200, 300 and print it."
      ],
      "metadata": {
        "id": "MTJ_4Pi6UiwF"
      }
    },
    {
      "cell_type": "code",
      "source": [
        "tuple_example = (100, 200, 300)\n",
        "print(tuple_example)"
      ],
      "metadata": {
        "colab": {
          "base_uri": "https://localhost:8080/"
        },
        "id": "8rs0iRP1V_Hm",
        "outputId": "95115fe3-21d7-474a-bdf4-3f1a7b0a39a8"
      },
      "execution_count": 14,
      "outputs": [
        {
          "output_type": "stream",
          "name": "stdout",
          "text": [
            "(100, 200, 300)\n"
          ]
        }
      ]
    },
    {
      "cell_type": "markdown",
      "source": [
        "12. Write a code to access the second-to-last element of the tuple ('red', 'green', 'blue', 'yellow')."
      ],
      "metadata": {
        "id": "1QA76pe_UlqT"
      }
    },
    {
      "cell_type": "code",
      "source": [
        "colors = ('red', 'green', 'blue', 'yellow')\n",
        "print(colors[-2])"
      ],
      "metadata": {
        "colab": {
          "base_uri": "https://localhost:8080/"
        },
        "id": "VaZvC4IhWCid",
        "outputId": "bfff0326-8f9a-470c-aded-193eb78461ab"
      },
      "execution_count": 15,
      "outputs": [
        {
          "output_type": "stream",
          "name": "stdout",
          "text": [
            "blue\n"
          ]
        }
      ]
    },
    {
      "cell_type": "markdown",
      "source": [
        "13. Write a code to find the minimum number in the tuple (10, 20, 5, 15)."
      ],
      "metadata": {
        "id": "H3nIoj5eUnUs"
      }
    },
    {
      "cell_type": "code",
      "source": [
        "numbers = (10, 20, 5, 15)\n",
        "print(min(numbers))\n"
      ],
      "metadata": {
        "colab": {
          "base_uri": "https://localhost:8080/"
        },
        "id": "jf_0BGBpWD4h",
        "outputId": "b091a170-113d-474d-c9b5-c5976d8d9b90"
      },
      "execution_count": 16,
      "outputs": [
        {
          "output_type": "stream",
          "name": "stdout",
          "text": [
            "5\n"
          ]
        }
      ]
    },
    {
      "cell_type": "markdown",
      "source": [
        "14. Write a code to find the index of the element \"cat\" in the tuple ('dog', 'cat', 'rabbit')."
      ],
      "metadata": {
        "id": "N3mby8SHUowI"
      }
    },
    {
      "cell_type": "code",
      "source": [
        "animals = ('dog', 'cat', 'rabbit')\n",
        "print(animals.index(\"cat\"))\n"
      ],
      "metadata": {
        "colab": {
          "base_uri": "https://localhost:8080/"
        },
        "id": "B4Eo_bPwWGDX",
        "outputId": "cd4d5da2-d475-49ee-9a01-6064ed981910"
      },
      "execution_count": 17,
      "outputs": [
        {
          "output_type": "stream",
          "name": "stdout",
          "text": [
            "1\n"
          ]
        }
      ]
    },
    {
      "cell_type": "markdown",
      "source": [
        "15. Write a code to create a tuple containing three different fruits and check if \"kiwi\" is in it."
      ],
      "metadata": {
        "id": "0-rD-2r5UqO3"
      }
    },
    {
      "cell_type": "code",
      "source": [
        "fruits = ('apple', 'banana', 'cherry')\n",
        "print(\"kiwi\" in fruits)"
      ],
      "metadata": {
        "colab": {
          "base_uri": "https://localhost:8080/"
        },
        "id": "eUzIjcsQWIsZ",
        "outputId": "b07ae6a3-f0e3-4671-e9e2-082cde5ff6c0"
      },
      "execution_count": 18,
      "outputs": [
        {
          "output_type": "stream",
          "name": "stdout",
          "text": [
            "False\n"
          ]
        }
      ]
    },
    {
      "cell_type": "markdown",
      "source": [
        "16. Write a code to create a set with the elements 'a', 'b', 'c' and print it."
      ],
      "metadata": {
        "id": "evCCwBrdUrws"
      }
    },
    {
      "cell_type": "code",
      "source": [
        "letters = {'a', 'b', 'c'}\n",
        "print(letters)"
      ],
      "metadata": {
        "colab": {
          "base_uri": "https://localhost:8080/"
        },
        "id": "BxW3NFaVWLYe",
        "outputId": "f896ac12-b9e4-4973-db32-8bf6d18c51c4"
      },
      "execution_count": 19,
      "outputs": [
        {
          "output_type": "stream",
          "name": "stdout",
          "text": [
            "{'b', 'c', 'a'}\n"
          ]
        }
      ]
    },
    {
      "cell_type": "markdown",
      "source": [
        "17. Write a code to clear all elements from the set {1, 2, 3, 4, 5}."
      ],
      "metadata": {
        "id": "9GRYeWCNUuGH"
      }
    },
    {
      "cell_type": "code",
      "source": [
        "numbers = {1, 2, 3, 4, 5}\n",
        "numbers.clear()\n",
        "print(numbers)"
      ],
      "metadata": {
        "colab": {
          "base_uri": "https://localhost:8080/"
        },
        "id": "VLl4_Z0YWOV2",
        "outputId": "8525925f-438e-49e9-ff34-20acc323e260"
      },
      "execution_count": 20,
      "outputs": [
        {
          "output_type": "stream",
          "name": "stdout",
          "text": [
            "set()\n"
          ]
        }
      ]
    },
    {
      "cell_type": "markdown",
      "source": [
        "18. Write a code to remove the element 4 from the set {1, 2, 3, 4}."
      ],
      "metadata": {
        "id": "TQnjYlVjUv8U"
      }
    },
    {
      "cell_type": "code",
      "source": [
        "numbers = {1, 2, 3, 4}\n",
        "numbers.remove(4)\n",
        "print(numbers)"
      ],
      "metadata": {
        "colab": {
          "base_uri": "https://localhost:8080/"
        },
        "id": "0DMAd7k7WTVm",
        "outputId": "68099c15-1551-48ae-e5bd-cb2d41d1dd4d"
      },
      "execution_count": 21,
      "outputs": [
        {
          "output_type": "stream",
          "name": "stdout",
          "text": [
            "{1, 2, 3}\n"
          ]
        }
      ]
    },
    {
      "cell_type": "markdown",
      "source": [
        "19. Write a code to find the union of two sets {1, 2, 3} and {3, 4, 5}."
      ],
      "metadata": {
        "id": "jEdf1rSUUx5p"
      }
    },
    {
      "cell_type": "code",
      "source": [
        "set1 = {1, 2, 3}\n",
        "set2 = {3, 4, 5}\n",
        "print(set1.union(set2))\n"
      ],
      "metadata": {
        "colab": {
          "base_uri": "https://localhost:8080/"
        },
        "id": "_3ZE-BMvWVkH",
        "outputId": "aa79f534-cf54-45fe-b1fe-0cbee354154e"
      },
      "execution_count": 22,
      "outputs": [
        {
          "output_type": "stream",
          "name": "stdout",
          "text": [
            "{1, 2, 3, 4, 5}\n"
          ]
        }
      ]
    },
    {
      "cell_type": "markdown",
      "source": [
        "20. Write a code to find the intersection of two sets {1, 2, 3} and {2, 3, 4}."
      ],
      "metadata": {
        "id": "O_ZbR-G0Uz9o"
      }
    },
    {
      "cell_type": "code",
      "source": [
        "print(set1.intersection(set2))"
      ],
      "metadata": {
        "colab": {
          "base_uri": "https://localhost:8080/"
        },
        "id": "GYcFJrzJWX5Z",
        "outputId": "800410d9-762e-44d2-a5c6-7de14a1b21f8"
      },
      "execution_count": 23,
      "outputs": [
        {
          "output_type": "stream",
          "name": "stdout",
          "text": [
            "{3}\n"
          ]
        }
      ]
    },
    {
      "cell_type": "markdown",
      "source": [
        "21. Write a code to create a dictionary with the keys \"name\", \"age\", and \"city\", and print it."
      ],
      "metadata": {
        "id": "LtpxGJetU1Ud"
      }
    },
    {
      "cell_type": "code",
      "source": [
        "info = {\"name\": \"Krutvik\", \"age\": 24, \"city\": \"Vadodara\"}\n",
        "print(info)"
      ],
      "metadata": {
        "colab": {
          "base_uri": "https://localhost:8080/"
        },
        "id": "EUm72-GOWZY0",
        "outputId": "6b268f10-7854-4b4d-ab76-2a4b5dd8f12b"
      },
      "execution_count": 26,
      "outputs": [
        {
          "output_type": "stream",
          "name": "stdout",
          "text": [
            "{'name': 'Krutvik', 'age': 24, 'city': 'Vadodara'}\n"
          ]
        }
      ]
    },
    {
      "cell_type": "markdown",
      "source": [
        "22. Write a code to add a new key-value pair \"country\": \"USA\" to the dictionary {'name': 'John', 'age': 25}."
      ],
      "metadata": {
        "id": "_xGSOLDuU36F"
      }
    },
    {
      "cell_type": "code",
      "source": [
        "info[\"country\"] = \"USA\"\n",
        "print(info)"
      ],
      "metadata": {
        "colab": {
          "base_uri": "https://localhost:8080/"
        },
        "id": "eKY1ZKu6WcM7",
        "outputId": "106abfe0-c254-421c-9e99-479447300892"
      },
      "execution_count": 25,
      "outputs": [
        {
          "output_type": "stream",
          "name": "stdout",
          "text": [
            "{'name': 'John', 'age': 25, 'city': 'New York', 'country': 'USA'}\n"
          ]
        }
      ]
    },
    {
      "cell_type": "markdown",
      "source": [
        "23. Write a code to access the value associated with the key \"name\" in the dictionary {'name': 'Alice', 'age': 30}."
      ],
      "metadata": {
        "id": "KHRSrtlMU54p"
      }
    },
    {
      "cell_type": "code",
      "source": [
        "info = {'name': 'Alice', 'age': 30}\n",
        "print(info[\"name\"])"
      ],
      "metadata": {
        "colab": {
          "base_uri": "https://localhost:8080/"
        },
        "id": "ICxXxXCMWq1x",
        "outputId": "40b0cc13-43d7-40a4-f947-e74d82a5ab9a"
      },
      "execution_count": 27,
      "outputs": [
        {
          "output_type": "stream",
          "name": "stdout",
          "text": [
            "Alice\n"
          ]
        }
      ]
    },
    {
      "cell_type": "markdown",
      "source": [
        "24. Write a code to remove the key \"age\" from the dictionary {'name': 'Bob', 'age': 22, 'city': 'New York'}."
      ],
      "metadata": {
        "id": "_VzVf5npU7xR"
      }
    },
    {
      "cell_type": "code",
      "source": [
        "info = {'name': 'Bob', 'age': 22, 'city': 'New York'}\n",
        "del info[\"age\"]\n",
        "print(info)"
      ],
      "metadata": {
        "colab": {
          "base_uri": "https://localhost:8080/"
        },
        "id": "z25av5VqWs5K",
        "outputId": "1ccaee6a-cf2c-465d-934e-21d8c2070650"
      },
      "execution_count": 28,
      "outputs": [
        {
          "output_type": "stream",
          "name": "stdout",
          "text": [
            "{'name': 'Bob', 'city': 'New York'}\n"
          ]
        }
      ]
    },
    {
      "cell_type": "markdown",
      "source": [
        "25. Write a code to check if the key \"city\" exists in the dictionary {'name': 'Alice', 'city': 'Paris'}."
      ],
      "metadata": {
        "id": "QJRgP4TtU9mi"
      }
    },
    {
      "cell_type": "code",
      "source": [
        "info = {'name': 'Alice', 'city': 'Paris'}\n",
        "print(\"city\" in info)"
      ],
      "metadata": {
        "colab": {
          "base_uri": "https://localhost:8080/"
        },
        "id": "QnSrPkzrWu_N",
        "outputId": "0e5595ea-dc39-44a3-fdc6-52a62acedc63"
      },
      "execution_count": 29,
      "outputs": [
        {
          "output_type": "stream",
          "name": "stdout",
          "text": [
            "True\n"
          ]
        }
      ]
    },
    {
      "cell_type": "markdown",
      "source": [
        "26. Write a code to create a list, a tuple, and a dictionary, and print them all."
      ],
      "metadata": {
        "id": "1TrseqJ8U_fN"
      }
    },
    {
      "cell_type": "code",
      "source": [
        "data_list = [1, 2, 3]\n",
        "data_tuple = (4, 5, 6)\n",
        "data_dict = {\"a\": 7, \"b\": 8}\n",
        "print(data_list, data_tuple, data_dict)"
      ],
      "metadata": {
        "colab": {
          "base_uri": "https://localhost:8080/"
        },
        "id": "oVWUvJ7fWyHC",
        "outputId": "48c6589f-c5c6-4a0d-b489-44278e1c6c68"
      },
      "execution_count": 30,
      "outputs": [
        {
          "output_type": "stream",
          "name": "stdout",
          "text": [
            "[1, 2, 3] (4, 5, 6) {'a': 7, 'b': 8}\n"
          ]
        }
      ]
    },
    {
      "cell_type": "markdown",
      "source": [
        "27. Write a code to create a list of 5 random numbers between 1 and 100, sort it in ascending order, and print the\n",
        "result.(replaced)"
      ],
      "metadata": {
        "id": "4RjLm8q4VAtV"
      }
    },
    {
      "cell_type": "code",
      "source": [
        "import random\n",
        "random_numbers = random.sample(range(1, 101), 5)\n",
        "random_numbers.sort()\n",
        "print(random_numbers)"
      ],
      "metadata": {
        "colab": {
          "base_uri": "https://localhost:8080/"
        },
        "id": "f3YxPtjVWzmh",
        "outputId": "fc71de50-8e97-48b3-c01a-12b9a9937251"
      },
      "execution_count": 31,
      "outputs": [
        {
          "output_type": "stream",
          "name": "stdout",
          "text": [
            "[11, 19, 68, 77, 92]\n"
          ]
        }
      ]
    },
    {
      "cell_type": "markdown",
      "source": [
        "28. Write a code to create a list with strings and print the element at the third index."
      ],
      "metadata": {
        "id": "TCnJdfwwVCM9"
      }
    },
    {
      "cell_type": "code",
      "source": [
        "string_list = [\"apple\", \"banana\", \"cherry\", \"date\"]\n",
        "print(string_list[2])\n"
      ],
      "metadata": {
        "colab": {
          "base_uri": "https://localhost:8080/"
        },
        "id": "jkNmH_cnW2Uo",
        "outputId": "95c157ab-3b5a-4ce6-d1df-c523d54f8a22"
      },
      "execution_count": 32,
      "outputs": [
        {
          "output_type": "stream",
          "name": "stdout",
          "text": [
            "cherry\n"
          ]
        }
      ]
    },
    {
      "cell_type": "markdown",
      "source": [
        "29.  Write a code to combine two dictionaries into one and print the result."
      ],
      "metadata": {
        "id": "6aPRCouMVE4r"
      }
    },
    {
      "cell_type": "code",
      "source": [
        "dict1 = {\"a\": 1, \"b\": 2}\n",
        "dict2 = {\"c\": 3, \"d\": 4}\n",
        "combined_dict = {**dict1, **dict2}\n",
        "print(combined_dict)"
      ],
      "metadata": {
        "colab": {
          "base_uri": "https://localhost:8080/"
        },
        "id": "C4Iy-HuCW3y_",
        "outputId": "75f02faf-961d-4567-987d-e72bb07f944b"
      },
      "execution_count": 33,
      "outputs": [
        {
          "output_type": "stream",
          "name": "stdout",
          "text": [
            "{'a': 1, 'b': 2, 'c': 3, 'd': 4}\n"
          ]
        }
      ]
    },
    {
      "cell_type": "markdown",
      "source": [
        "30. Write a code to convert a list of strings into a set."
      ],
      "metadata": {
        "id": "cBQqmcWZVGXw"
      }
    },
    {
      "cell_type": "code",
      "source": [
        "string_list = [\"apple\", \"banana\", \"cherry\", \"apple\"]\n",
        "string_set = set(string_list)\n",
        "print(string_set)"
      ],
      "metadata": {
        "colab": {
          "base_uri": "https://localhost:8080/"
        },
        "id": "p-ZXdPcHW5ZK",
        "outputId": "58b23e2e-1a1a-4cc7-8835-7a54f14a880b"
      },
      "execution_count": 34,
      "outputs": [
        {
          "output_type": "stream",
          "name": "stdout",
          "text": [
            "{'banana', 'apple', 'cherry'}\n"
          ]
        }
      ]
    }
  ]
}